{
  "nbformat": 4,
  "nbformat_minor": 0,
  "metadata": {
    "colab": {
      "provenance": []
    },
    "kernelspec": {
      "name": "python3",
      "display_name": "Python 3"
    },
    "language_info": {
      "name": "python"
    }
  },
  "cells": [
    {
      "cell_type": "code",
      "source": [
        "import random\n",
        "test_data = random.sample(range(-100,100), 200)"
      ],
      "metadata": {
        "id": "o2pLfCQzccrX"
      },
      "execution_count": null,
      "outputs": []
    },
    {
      "cell_type": "code",
      "source": [
        "import math"
      ],
      "metadata": {
        "id": "RxIQxTKkhsc0"
      },
      "execution_count": 22,
      "outputs": []
    },
    {
      "cell_type": "markdown",
      "source": [
        "## Сортрировка пузырьком"
      ],
      "metadata": {
        "id": "5UTGkhCwb-YL"
      }
    },
    {
      "cell_type": "markdown",
      "source": [
        "Это самый простой алгоритм сортировки. В процессе его выполнения мы перебираем наш список и на каждой итерации сравниваем элементы попарно. При необходимости элементы меняются местами, чтобы больший элемент отправлялся в конец списка. Сложность алгоритма:\n",
        "O(n<sup>2</sup>)"
      ],
      "metadata": {
        "id": "veW2BQ74euJ5"
      }
    },
    {
      "cell_type": "code",
      "execution_count": 1,
      "metadata": {
        "id": "AQ_DRCz9bkL9"
      },
      "outputs": [],
      "source": [
        "def buble_sort(arr: list) -> list:\n",
        "  n = len(arr)\n",
        "  for i in range(n-1):\n",
        "    for j in range(n-i-1):\n",
        "      if arr[j] > arr[j+1]:\n",
        "        arr[j], arr[j+1] = arr[j+1], arr[j]\n",
        "  return arr"
      ]
    },
    {
      "cell_type": "code",
      "source": [
        "%%timeit\n",
        "buble_sort(test_data)"
      ],
      "metadata": {
        "colab": {
          "base_uri": "https://localhost:8080/"
        },
        "id": "NSm5ydxwcJW6",
        "outputId": "978a4644-0428-454c-94ca-d6d4a839bbd7"
      },
      "execution_count": 14,
      "outputs": [
        {
          "output_type": "stream",
          "name": "stdout",
          "text": [
            "1.02 ms ± 32.2 µs per loop (mean ± std. dev. of 7 runs, 1000 loops each)\n"
          ]
        }
      ]
    },
    {
      "cell_type": "markdown",
      "source": [
        "## Сортировка выбором"
      ],
      "metadata": {
        "id": "5LDj-GXjfvip"
      }
    },
    {
      "cell_type": "markdown",
      "source": [
        "В этом алгоритме мы создаем два сегмента нашего списка: один отсортированный, а другой несортированный.\n",
        "\n",
        "В процессе выполнения алгоритма мы каждый раз удаляем самый маленький элемент из несортированного сегмента списка и добавляем его в отсортированный сегмент. Мы не меняем местами промежуточные элементы. Следовательно, этот алгоритм сортирует массив с минимальным количеством перестановок. Сложность алгоритма:\n",
        "O(n<sup>2</sup>)"
      ],
      "metadata": {
        "id": "BuqaQcBFf4ZA"
      }
    },
    {
      "cell_type": "code",
      "source": [
        "def selectionSort(arr: list) -> list:\n",
        "  for i in range(len(arr)-1):\n",
        "    min_idx = i\n",
        "    for idx in range(i + 1, len(arr)-1):\n",
        "      if arr[idx] < arr[min_idx]:\n",
        "        min_idx = idx\n",
        "    arr[i], arr[min_idx] = arr[min_idx], arr[i]\n",
        "  return arr"
      ],
      "metadata": {
        "id": "ffd02GtLfyWc"
      },
      "execution_count": 18,
      "outputs": []
    },
    {
      "cell_type": "code",
      "source": [
        "%%timeit\n",
        "selectionSort(test_data)"
      ],
      "metadata": {
        "colab": {
          "base_uri": "https://localhost:8080/"
        },
        "id": "owsXCL3zgWDq",
        "outputId": "03f6cf3d-3a10-470a-de7a-0aea6337287c"
      },
      "execution_count": 19,
      "outputs": [
        {
          "output_type": "stream",
          "name": "stdout",
          "text": [
            "922 µs ± 195 µs per loop (mean ± std. dev. of 7 runs, 1000 loops each)\n"
          ]
        }
      ]
    },
    {
      "cell_type": "markdown",
      "source": [
        "##Сортировка вставками"
      ],
      "metadata": {
        "id": "BiEEMll1gdCy"
      }
    },
    {
      "cell_type": "markdown",
      "source": [
        "Подобно алгоритму сортировки выбором, мы делим наш список на две части. Далее мы перебираем неотсортированную часть и вставляем каждый элемент из данного сегмента на его правильное место в отсортированной части списка. Сложность алгоритма: O(n<sup>2</sup>)"
      ],
      "metadata": {
        "id": "YKrlh3lGgeIC"
      }
    },
    {
      "cell_type": "code",
      "source": [
        "def insertionSort(array):\n",
        "  for i in range(1, len(array)):\n",
        "    key = array[i]\n",
        "    j = i-1\n",
        "    while array[j] > key and j >= 0:\n",
        "      array[j+1] = array[j]\n",
        "      j -= 1\n",
        "    array[j+1] = key\n",
        "  return array"
      ],
      "metadata": {
        "id": "8c53s82XgokT"
      },
      "execution_count": 20,
      "outputs": []
    },
    {
      "cell_type": "code",
      "source": [
        "%%timeit\n",
        "insertionSort(test_data)"
      ],
      "metadata": {
        "colab": {
          "base_uri": "https://localhost:8080/"
        },
        "id": "smssVpifg0xR",
        "outputId": "2a62cbd4-1561-4de9-8477-c65c0684c42a"
      },
      "execution_count": 21,
      "outputs": [
        {
          "output_type": "stream",
          "name": "stdout",
          "text": [
            "17.4 µs ± 399 ns per loop (mean ± std. dev. of 7 runs, 10000 loops each)\n"
          ]
        }
      ]
    },
    {
      "cell_type": "markdown",
      "source": [
        "##Сортировка Шелла"
      ],
      "metadata": {
        "id": "uu85Q-J9g8aJ"
      }
    },
    {
      "cell_type": "markdown",
      "source": [
        "Сортировка Шелла является оптимизированным вариантом сортировки вставками.\n",
        "\n",
        "Оптимизация достигается путем сравнения не только соседних элементов, но и элементов на определенном расстоянии, которое в течении работы алгоритма уменьшается. На последней итерации это расстояние равно 1. После этого алгоритм становится обычным алгоритмом сортировки вставками, что гарантирует правильный результат сортировки.\n",
        "\n",
        "Но следует отметить один момент: к тому времени, когда это произойдет, наш массив будет почти отсортирован, поэтому итерации будут выполнятся очень быстро.Худшее время выполнения алгоритма: O(n<sup>2</sup>). Лучшее время выполнения алгоритма: O(n*log<sup>2</sup>n)"
      ],
      "metadata": {
        "id": "jium458OhBbC"
      }
    },
    {
      "cell_type": "code",
      "source": [
        "def shellSort(array):\n",
        "  n = len(array)\n",
        "  k = int(math.log2(n))\n",
        "  interval = 2**k -1\n",
        "  while interval > 0:\n",
        "    for i in range(interval, n):\n",
        "      temp = array[i]\n",
        "      j = i\n",
        "      while j >= interval and array[j - interval] > temp:\n",
        "        array[j] = array[j - interval]\n",
        "        j -= interval\n",
        "      array[j] = temp\n",
        "    k -= 1\n",
        "    interval = 2**k -1\n",
        "  return array"
      ],
      "metadata": {
        "id": "ETwyDBDZhel3"
      },
      "execution_count": 23,
      "outputs": []
    },
    {
      "cell_type": "code",
      "source": [
        "%%timeit\n",
        "shellSort(test_data)"
      ],
      "metadata": {
        "colab": {
          "base_uri": "https://localhost:8080/"
        },
        "id": "TaAsMoY5iAa5",
        "outputId": "520e908b-39d5-45bf-b1d0-94b464d2dbb8"
      },
      "execution_count": 24,
      "outputs": [
        {
          "output_type": "stream",
          "name": "stdout",
          "text": [
            "111 µs ± 25.7 µs per loop (mean ± std. dev. of 7 runs, 10000 loops each)\n"
          ]
        }
      ]
    },
    {
      "cell_type": "markdown",
      "source": [
        "##Сортировка кучей"
      ],
      "metadata": {
        "id": "7tKrQ_lGxrdq"
      }
    },
    {
      "cell_type": "markdown",
      "source": [
        "Как и в двух предыдущих алгоритмах, мы создаем два сегмента списка: отсортированный и несортированный.\n",
        "\n",
        "В данном алгоритме для эффективного нахождения максимального элемента в неотсортированной части списка мы используем структуру данных «куча».\n",
        "\n",
        "Метод heapify в примере кода использует рекурсию для получения элемента с максимальным значением на вершине. Сложность алгоритма: O(n*log<sup>2</sup>n)"
      ],
      "metadata": {
        "id": "ykVhlVsNxwqu"
      }
    },
    {
      "cell_type": "code",
      "source": [
        "def heapify(array, n, i):\n",
        "  largest = i\n",
        "  l = 2 * i + 1\n",
        "  r = 2 * i + 2\n",
        "\n",
        "  if l < n and array[i] < array[l]:\n",
        "    largest = l\n",
        "  if r < n and array[largest] < array[r]:\n",
        "    largest = r\n",
        "\n",
        "  if largest != i:\n",
        "    array[i], array[largest] = array[largest], array[i]\n",
        "    heapify(array, n, largest)\n",
        "\n",
        "def heapSort(array):\n",
        "  n = len(array)\n",
        "  for i in range(n//2, -1, -1):\n",
        "    heapify(array, n, i)\n",
        "  for i in range(n-1, 0, -1):\n",
        "    array[i], array[0] = array[0], array[i]\n",
        "    heapify(array, i, 0)\n",
        "  return array"
      ],
      "metadata": {
        "id": "D5br1TVxx4Z5"
      },
      "execution_count": 25,
      "outputs": []
    },
    {
      "cell_type": "code",
      "source": [
        "%%timeit\n",
        "heapSort(test_data)"
      ],
      "metadata": {
        "colab": {
          "base_uri": "https://localhost:8080/"
        },
        "id": "F0YI9ocbyDcB",
        "outputId": "fe0feffd-c537-4222-8865-0800991ca51e"
      },
      "execution_count": 26,
      "outputs": [
        {
          "output_type": "stream",
          "name": "stdout",
          "text": [
            "410 µs ± 7.5 µs per loop (mean ± std. dev. of 7 runs, 1000 loops each)\n"
          ]
        }
      ]
    },
    {
      "cell_type": "markdown",
      "source": [
        "##Сортировка слиянием"
      ],
      "metadata": {
        "id": "qzKl56MVyPCm"
      }
    },
    {
      "cell_type": "markdown",
      "source": [
        "Этот алгоритм работает по принципу «разделяй и властвуй».\n",
        "\n",
        "Здесь мы делим список ровно пополам и продолжаем это делать, пока в нем не останется только один элемент. Затем мы объединяем уже упорядоченные части нашего списка. Мы продолжаем это делать, пока не получим отсортированный список со всеми элементами несортированного входного списка. Сложность алгоритма: O(n*log<sup>2</sup>n)"
      ],
      "metadata": {
        "id": "jRD1YXjSyRYG"
      }
    },
    {
      "cell_type": "code",
      "source": [
        "def mergeSort(nums: list) -> list:\n",
        "  if len(nums)==1:\n",
        "    return nums\n",
        "  mid = (len(nums) - 1) // 2\n",
        "  lst1 = mergeSort(nums[:mid+1])\n",
        "  lst2 = mergeSort(nums[mid+1:])\n",
        "  result = merge(lst1, lst2)\n",
        "  return result\n",
        "def merge(lst1: list, lst2: list) -> list:\n",
        "  lst = []\n",
        "  i, j = 0, 0\n",
        "  while(i <= len(lst1) - 1 and j <= len(lst2) - 1):\n",
        "    if lst1[i] < lst2[j]:\n",
        "      lst.append(lst1[i])\n",
        "      i += 1\n",
        "    else:\n",
        "      lst.append(lst2[j])\n",
        "      j += 1\n",
        "    if i > len(lst1) - 1:\n",
        "      while(j <= len(lst2) - 1):\n",
        "        lst.append(lst2[j])\n",
        "        j += 1\n",
        "    else:\n",
        "      while(i <= len(lst1) - 1):\n",
        "        lst.append(lst1[i])\n",
        "        i += 1\n",
        "    return lst"
      ],
      "metadata": {
        "id": "FiErofwuyc9Q"
      },
      "execution_count": 29,
      "outputs": []
    },
    {
      "cell_type": "code",
      "source": [
        "%%timeit\n",
        "mergeSort(test_data)"
      ],
      "metadata": {
        "colab": {
          "base_uri": "https://localhost:8080/"
        },
        "id": "0yMZ8r3fzInU",
        "outputId": "f5c44737-98b2-417a-8528-3392a4c6b1de"
      },
      "execution_count": 30,
      "outputs": [
        {
          "output_type": "stream",
          "name": "stdout",
          "text": [
            "174 µs ± 24.5 µs per loop (mean ± std. dev. of 7 runs, 10000 loops each)\n"
          ]
        }
      ]
    },
    {
      "cell_type": "markdown",
      "source": [
        "##Быстрая сортировка\n"
      ],
      "metadata": {
        "id": "2QElBUpVzN1j"
      }
    },
    {
      "cell_type": "markdown",
      "source": [
        "В этом алгоритме мы разбиваем список при помощи опорного элемента, сортируя значения вокруг него.\n",
        "\n",
        "В нашей реализации мы выбрали опорным элементом последний элемент массива. Наилучшая производительность достигается тогда, когда опорный элемент делит список примерно пополам. Сложность алгоритма: O(n*log<sup>2</sup>n)"
      ],
      "metadata": {
        "id": "xlAd26OfzQqT"
      }
    },
    {
      "cell_type": "code",
      "source": [
        "def quickSort(arr: list) -> list:\n",
        "  if len(arr)> 1:\n",
        "    pivot=arr.pop()\n",
        "    grtr_lst, equal_lst, smlr_lst = [], [pivot], []\n",
        "    for item in arr:\n",
        "      if item == pivot:\n",
        "        equal_lst.append(item)\n",
        "      elif item > pivot:\n",
        "        grtr_lst.append(item)\n",
        "      else:\n",
        "        smlr_lst.append(item)\n",
        "    return (quickSort(arr) + equal_lst + quickSort(arr))\n",
        "  else:\n",
        "    return arr"
      ],
      "metadata": {
        "id": "jq6vRQRqzgo8"
      },
      "execution_count": 31,
      "outputs": []
    },
    {
      "cell_type": "code",
      "source": [
        "%%timeit\n",
        "quickSort(test_data)"
      ],
      "metadata": {
        "colab": {
          "base_uri": "https://localhost:8080/"
        },
        "id": "OJ7aHW5X0NHp",
        "outputId": "e45129d5-8c2d-4035-ea37-670a14decc53"
      },
      "execution_count": 32,
      "outputs": [
        {
          "output_type": "stream",
          "name": "stdout",
          "text": [
            "85.2 ns ± 2.71 ns per loop (mean ± std. dev. of 7 runs, 10000000 loops each)\n"
          ]
        }
      ]
    },
    {
      "cell_type": "markdown",
      "source": [
        "##Сортировка подсчетом"
      ],
      "metadata": {
        "id": "cQ-c1J3X0P_b"
      }
    },
    {
      "cell_type": "markdown",
      "source": [
        "Этот алгоритм не производит сравнение элементов. Для сортировки используются математические свойства целых чисел. Мы подсчитываем вхождения числа в массиве и сохраняем результат во вспомогательном массиве, где индексу соответствует значение ключа. Сложность алгоритма: O(n)"
      ],
      "metadata": {
        "id": "NjEtB5Oz0Urp"
      }
    },
    {
      "cell_type": "code",
      "source": [
        "def sortArray(nums: list) -> list:\n",
        "  i_lower_bound , upper_bound = min(nums), max(nums)\n",
        "  lower_bound = i_lower_bound\n",
        "  if i_lower_bound < 0:\n",
        "    lb = abs(i_lower_bound)\n",
        "    nums = [item + lb for item in nums]\n",
        "    lower_bound , upper_bound = min(nums), max(nums)\n",
        "\n",
        "  counter_nums = [0]*(upper_bound-lower_bound+1)\n",
        "  for item in nums:\n",
        "    counter_nums[item-lower_bound] += 1\n",
        "  pos = 0\n",
        "  for idx, item in enumerate(counter_nums):\n",
        "    num = idx + lower_bound\n",
        "    for i in range(item):\n",
        "      nums[pos] = num\n",
        "      pos += 1\n",
        "  if i_lower_bound < 0:\n",
        "    lb = abs(i_lower_bound)\n",
        "    nums = [item - lb for item in nums]\n",
        "  return nums"
      ],
      "metadata": {
        "id": "FfvyiZgm0ZFk"
      },
      "execution_count": 35,
      "outputs": []
    },
    {
      "cell_type": "code",
      "source": [
        "%%timeit\n",
        "sortArray(test_data)"
      ],
      "metadata": {
        "colab": {
          "base_uri": "https://localhost:8080/"
        },
        "id": "et18WyAh0vsB",
        "outputId": "b8d799d3-5a5a-4478-d6ee-a8359617ef45"
      },
      "execution_count": 36,
      "outputs": [
        {
          "output_type": "stream",
          "name": "stdout",
          "text": [
            "2.52 µs ± 30.2 ns per loop (mean ± std. dev. of 7 runs, 100000 loops each)\n"
          ]
        }
      ]
    },
    {
      "cell_type": "markdown",
      "source": [
        "##Поразрядная сортировка"
      ],
      "metadata": {
        "id": "KJSDtelw05vQ"
      }
    },
    {
      "cell_type": "markdown",
      "source": [
        "Это алгоритм сортировки, который разделяет числа на разряды (цифры) и сортирует их последовательно по каждому разряду. Процесс начинается с наименее значимого разряда и заканчивается наиболее значимым разрядом.\n",
        "В каждой итерации поразрядной сортировки числа группируются по значениям определенного разряда, например, единиц, десятков, сотен и так далее. Затем числа сортируются внутри каждой группы, сохраняя исходный порядок внутри группы. Этот процесс повторяется для каждого разряда, пока все разряды не будут рассмотрены.\n",
        "Поразрядная сортировка эффективна для сортировки чисел с большими разрядностями, так как она выполняет сортировку по одному разряду за раз, и может быть адаптирована для работы с различными системами счисления. Однако она может быть не так эффективна для маленьких массивов или чисел с одинаковыми разрядами. Сложность алгоритма: O(w*n), где w - бит, требуемых для хранения каждого ключа"
      ],
      "metadata": {
        "id": "UVoo-15R07Lj"
      }
    },
    {
      "cell_type": "code",
      "source": [
        "def radix_sort(arr: list) -> list:\n",
        "  max_digits = max([len(str(x)) for x in arr])\n",
        "  base = 10\n",
        "  bins = [[] for _ in range(base)]\n",
        "  for i in range(0, max_digits):\n",
        "    for x in arr:\n",
        "      digit = (x // base ** i) % base\n",
        "      bins[digit].append(x)\n",
        "    arr = [x for queue in bins for x in queue]\n",
        "  return arr"
      ],
      "metadata": {
        "id": "LlUyvBbe48aM"
      },
      "execution_count": 37,
      "outputs": []
    },
    {
      "cell_type": "code",
      "source": [
        "%%timeit\n",
        "radix_sort(test_data)"
      ],
      "metadata": {
        "colab": {
          "base_uri": "https://localhost:8080/"
        },
        "id": "wQXwOPQY5edb",
        "outputId": "5dc45076-b949-458e-ced5-86c9b5e368d1"
      },
      "execution_count": 38,
      "outputs": [
        {
          "output_type": "stream",
          "name": "stdout",
          "text": [
            "5.73 µs ± 59.7 ns per loop (mean ± std. dev. of 7 runs, 100000 loops each)\n"
          ]
        }
      ]
    },
    {
      "cell_type": "markdown",
      "source": [
        "##Блочная сортировка"
      ],
      "metadata": {
        "id": "yOlCUO9r5mPa"
      }
    },
    {
      "cell_type": "markdown",
      "source": [
        "это алгоритм сортировки, основанный на подсчете количества элементов с определенными значениями. В отличие от других алгоритмов сортировки, который работают сравнением элементов, блочная сортировка не использует сравнения. Блочная сортировка является эффективным алгоритмом сортировки при наличии ограниченного диапазона значений входных элементов. Однако, она потребляет дополнительную память для хранения групп счетчиков и требует знания диапазона значений элементов заранее. O(n + k), где n - количество элементов во входном массиве, а k - количество уникальных значений в массиве."
      ],
      "metadata": {
        "id": "PVX-nW1k5nAn"
      }
    },
    {
      "cell_type": "code",
      "source": [
        "def bucket_sort(arr: list) -> list:\n",
        "  max_value = max(arr)\n",
        "  size = max_value/len(arr)\n",
        "  buckets_list= []\n",
        "  for x in range(len(arr)):\n",
        "    buckets_list.append([])\n",
        "  for i in range(len(arr)):\n",
        "    j = int (arr[i] / size)\n",
        "    if j != len (arr):\n",
        "      buckets_list[j].append(arr[i])\n",
        "    else:\n",
        "      buckets_list[len(arr) - 1].append(arr[i])\n",
        "  for z in range(len(arr)):\n",
        "    insertionSort(buckets_list[z])\n",
        "  final_output = []\n",
        "  for x in range(len (arr)):\n",
        "    final_output = final_output + buckets_list[x]\n",
        "  return final_output"
      ],
      "metadata": {
        "id": "-zJDfULJ6YWJ"
      },
      "execution_count": 39,
      "outputs": []
    },
    {
      "cell_type": "code",
      "source": [
        "%%timeit\n",
        "bucket_sort(test_data)"
      ],
      "metadata": {
        "colab": {
          "base_uri": "https://localhost:8080/"
        },
        "id": "Owh8ujwi62dO",
        "outputId": "f87532b9-fdbf-42a1-83b7-e53856c98dfa"
      },
      "execution_count": 40,
      "outputs": [
        {
          "output_type": "stream",
          "name": "stdout",
          "text": [
            "1.23 µs ± 246 ns per loop (mean ± std. dev. of 7 runs, 1000000 loops each)\n"
          ]
        }
      ]
    },
    {
      "cell_type": "markdown",
      "source": [
        "#Вывод"
      ],
      "metadata": {
        "id": "HnMHpgwH8OEZ"
      }
    },
    {
      "cell_type": "markdown",
      "source": [
        "Рассмотрев 10 алгоритмов мы можем сделать вывод что с точки зрения скорости наилучшим алгоритмом является блочная сортировка.\n"
      ],
      "metadata": {
        "id": "7UcRjUey8TmK"
      }
    }
  ]
}
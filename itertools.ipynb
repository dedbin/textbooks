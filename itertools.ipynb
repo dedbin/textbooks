{
  "nbformat": 4,
  "nbformat_minor": 0,
  "metadata": {
    "colab": {
      "provenance": []
    },
    "kernelspec": {
      "name": "python3",
      "display_name": "Python 3"
    },
    "language_info": {
      "name": "python"
    }
  },
  "cells": [
    {
      "cell_type": "markdown",
      "source": [
        "#Что такое itertools?"
      ],
      "metadata": {
        "id": "h-yOP6izr-li"
      }
    },
    {
      "cell_type": "markdown",
      "source": [
        "*Itertools* — это Python-модуль, который предоставляет набор функций для работы с итерируемыми объектами. Итерируемый объект — это любой объект, предоставляющий возможность пройти по своим элементам, например список, кортеж и словарь. Itertools позволяет выполнять стандартные операции с итерируемыми объектами, такие как фильтрация, группировка и объединение.\n",
        "\n",
        "Модуль Itertools предоставляет несколько функций, позволяющих манипулировать итерируемыми объектами. Рассмотрим подробнее наиболее полезные функции itertools."
      ],
      "metadata": {
        "id": "FEwOYd9vsKt9"
      }
    },
    {
      "cell_type": "markdown",
      "source": [
        "###permutations(): эта функция возвращает все возможные перестановки итерируемого объекта с уникальным расположением элементов в итераторе."
      ],
      "metadata": {
        "id": "8ewIMoKVst_I"
      }
    },
    {
      "cell_type": "code",
      "execution_count": 1,
      "metadata": {
        "colab": {
          "base_uri": "https://localhost:8080/"
        },
        "id": "0uE5AWoorfh6",
        "outputId": "1dd3026d-938a-4683-a39f-909189e5f262"
      },
      "outputs": [
        {
          "output_type": "stream",
          "name": "stdout",
          "text": [
            "('a', 'b', 'c')\n",
            "('a', 'c', 'b')\n",
            "('b', 'a', 'c')\n",
            "('b', 'c', 'a')\n",
            "('c', 'a', 'b')\n",
            "('c', 'b', 'a')\n"
          ]
        }
      ],
      "source": [
        "import itertools\n",
        "\n",
        "letters = ['a', 'b', 'c']\n",
        "perms = itertools.permutations(letters)\n",
        "\n",
        "for perm in perms:\n",
        "    print(perm)"
      ]
    },
    {
      "cell_type": "markdown",
      "source": [
        "###combinations(): эта функция возвращает все возможные комбинации элементов в итерируемом объекте, не повторяя в итераторе ни одной из комбинаций. Если указан опциональный аргумент r, будут возвращены только комбинации длины r."
      ],
      "metadata": {
        "id": "r96b_YVos66F"
      }
    },
    {
      "cell_type": "code",
      "source": [
        "import itertools\n",
        "\n",
        "numbers = [1, 2, 3, 4]\n",
        "combs = itertools.combinations(numbers, 2)\n",
        "\n",
        "for comb in combs:\n",
        "    print(comb)"
      ],
      "metadata": {
        "colab": {
          "base_uri": "https://localhost:8080/"
        },
        "id": "b2ct6uivtJIv",
        "outputId": "8c2962d0-8a3d-4fb4-a303-bb7a9b806c8e"
      },
      "execution_count": 2,
      "outputs": [
        {
          "output_type": "stream",
          "name": "stdout",
          "text": [
            "(1, 2)\n",
            "(1, 3)\n",
            "(1, 4)\n",
            "(2, 3)\n",
            "(2, 4)\n",
            "(3, 4)\n"
          ]
        }
      ]
    },
    {
      "cell_type": "markdown",
      "source": [
        "###product(): эта функция возвращает декартово произведение итерируемых объектов. Получаемый итератор содержит кортежи, каждый из которых формируется путем отбора по одному элементу из каждого итерируемого объекта. Если указан опциональный аргумент repeat, то входные итерируемые объекты повторяются указанное количество раз."
      ],
      "metadata": {
        "id": "HepJqoH6uE9t"
      }
    },
    {
      "cell_type": "code",
      "source": [
        "import itertools\n",
        "\n",
        "colors = ['red', 'green', 'blue']\n",
        "sizes = ['small', 'medium', 'large']\n",
        "combos = itertools.product(colors, sizes)\n",
        "\n",
        "for combo in combos:\n",
        "    print(combo)"
      ],
      "metadata": {
        "colab": {
          "base_uri": "https://localhost:8080/"
        },
        "id": "gmNpLsiPuG9M",
        "outputId": "e5690aba-42a8-47cc-a369-94731ad6a1a4"
      },
      "execution_count": 3,
      "outputs": [
        {
          "output_type": "stream",
          "name": "stdout",
          "text": [
            "('red', 'small')\n",
            "('red', 'medium')\n",
            "('red', 'large')\n",
            "('green', 'small')\n",
            "('green', 'medium')\n",
            "('green', 'large')\n",
            "('blue', 'small')\n",
            "('blue', 'medium')\n",
            "('blue', 'large')\n"
          ]
        }
      ]
    },
    {
      "cell_type": "markdown",
      "source": [
        "###groupby(): эта функция группирует элементы в конкретном итерируемом объекте на основе значения, возвращаемого функцией key. Получаемый в результате итератор содержит кортежи, в каждом из которых первый элемент — ключ группировки, а второй — итератор по элементам в группе."
      ],
      "metadata": {
        "id": "EkbTfqvHuMws"
      }
    },
    {
      "cell_type": "code",
      "source": [
        "import itertools\n",
        "\n",
        "fruits = [{'name': 'apple', 'color': 'red'},\n",
        "          {'name': 'banana', 'color': 'yellow'},\n",
        "          {'name': 'orange', 'color': 'orange'},\n",
        "          {'name': 'pear', 'color': 'green'},\n",
        "          {'name': 'strawberry', 'color': 'red'}]\n",
        "\n",
        "fruits.sort(key=lambda x: x['color'])\n",
        "\n",
        "for color, group in itertools.groupby(fruits, lambda x: x['color']):\n",
        "    print(color)\n",
        "    for fruit in group:\n",
        "        print(fruit['name'])"
      ],
      "metadata": {
        "colab": {
          "base_uri": "https://localhost:8080/"
        },
        "id": "u0hIFiLwuUYb",
        "outputId": "d3b3b3b9-d6a7-4464-e423-dc445ae5187a"
      },
      "execution_count": 4,
      "outputs": [
        {
          "output_type": "stream",
          "name": "stdout",
          "text": [
            "green\n",
            "pear\n",
            "orange\n",
            "orange\n",
            "red\n",
            "apple\n",
            "strawberry\n",
            "yellow\n",
            "banana\n"
          ]
        }
      ]
    },
    {
      "cell_type": "markdown",
      "source": [
        "###chain(): эта функция объединяет указанные итерируемые объекты в один итерируемый объект. Она возвращает итератор, в котором последовательно выполняется перебор элементов каждого итерируемого объекта."
      ],
      "metadata": {
        "id": "bMyrgIMcuYv8"
      }
    },
    {
      "cell_type": "code",
      "source": [
        "import itertools\n",
        "\n",
        "colors = ['red', 'green', 'blue']\n",
        "sizes = ['small', 'medium', 'large']\n",
        "\n",
        "for item in itertools.chain(colors, sizes):\n",
        "    print(item)"
      ],
      "metadata": {
        "colab": {
          "base_uri": "https://localhost:8080/"
        },
        "id": "pXCmgf3QuqO5",
        "outputId": "0a1eca39-e89f-4277-8c0e-ba23c37ecc72"
      },
      "execution_count": 5,
      "outputs": [
        {
          "output_type": "stream",
          "name": "stdout",
          "text": [
            "red\n",
            "green\n",
            "blue\n",
            "small\n",
            "medium\n",
            "large\n"
          ]
        }
      ]
    },
    {
      "cell_type": "markdown",
      "source": [
        "###count(): эта функция возвращает итератор, который производит бесконечную последовательность чисел, начиная с заданного начального значения и увеличивая на заданное значение шага."
      ],
      "metadata": {
        "id": "8p6sPIcIuxri"
      }
    },
    {
      "cell_type": "code",
      "source": [
        "import itertools\n",
        "\n",
        "for i in itertools.count(5, 2):\n",
        "    print(i)\n",
        "    if i > 15:\n",
        "        break"
      ],
      "metadata": {
        "colab": {
          "base_uri": "https://localhost:8080/"
        },
        "id": "bZHYPRC-uyVy",
        "outputId": "b0515c5e-e96f-4042-e759-93e9d5eb213c"
      },
      "execution_count": 6,
      "outputs": [
        {
          "output_type": "stream",
          "name": "stdout",
          "text": [
            "5\n",
            "7\n",
            "9\n",
            "11\n",
            "13\n",
            "15\n",
            "17\n"
          ]
        }
      ]
    },
    {
      "cell_type": "markdown",
      "source": [
        "###cycle(): эта функция возвращает итератор, который производит элементы конкретного итерируемого объекта многократно и бесконечно."
      ],
      "metadata": {
        "id": "5l_QBCybu9B6"
      }
    },
    {
      "cell_type": "code",
      "source": [
        "import itertools\n",
        "\n",
        "colors = ['red', 'green', 'blue']\n",
        "\n",
        "for color in itertools.cycle(colors):\n",
        "    print(color)"
      ],
      "metadata": {
        "id": "sTSkOUSgvB4K"
      },
      "execution_count": null,
      "outputs": []
    },
    {
      "cell_type": "markdown",
      "source": [
        "###dropwhile(): эта функция возвращает итератор, который производит элементы конкретного итерируемого объекта после того, как функция-предикат в первый раз вернет False."
      ],
      "metadata": {
        "id": "P08UPtc6vO5G"
      }
    },
    {
      "cell_type": "code",
      "source": [
        "import itertools\n",
        "\n",
        "numbers = [1, 3, 5, 7, 2, 4, 6, 8]\n",
        "\n",
        "for num in itertools.dropwhile(lambda x: x % 2 != 0, numbers):\n",
        "    print(num)"
      ],
      "metadata": {
        "colab": {
          "base_uri": "https://localhost:8080/"
        },
        "id": "XfM7hOiFvQcO",
        "outputId": "abe2fba2-ab41-45da-c73b-e1d8649c3c06"
      },
      "execution_count": 8,
      "outputs": [
        {
          "output_type": "stream",
          "name": "stdout",
          "text": [
            "2\n",
            "4\n",
            "6\n",
            "8\n"
          ]
        }
      ]
    },
    {
      "cell_type": "markdown",
      "source": [
        "###takewhile(): эта функция возвращает итератор, который производит элементы в заданном итераторе до тех пор, пока функция-предикат не вернет False в первый раз."
      ],
      "metadata": {
        "id": "jk-6n5c4vX6W"
      }
    },
    {
      "cell_type": "code",
      "source": [
        "import itertools\n",
        "\n",
        "numbers = [1, 3, 5, 2, 4, 6]\n",
        "\n",
        "for num in itertools.takewhile(lambda x: x % 2 != 0, numbers):\n",
        "    print(num)"
      ],
      "metadata": {
        "colab": {
          "base_uri": "https://localhost:8080/"
        },
        "id": "q5q0Xpf1vbyy",
        "outputId": "889c079e-3388-40fc-c226-f9c1773d2ed1"
      },
      "execution_count": 9,
      "outputs": [
        {
          "output_type": "stream",
          "name": "stdout",
          "text": [
            "1\n",
            "3\n",
            "5\n"
          ]
        }
      ]
    },
    {
      "cell_type": "markdown",
      "source": [
        "###tee(): эта функция возвращает n независимых итераторов конкретного итерируемого объекта. Каждый итератор выдает те же элементы, что и исходный итерируемый объект."
      ],
      "metadata": {
        "id": "CV7E4SRDvgpK"
      }
    },
    {
      "cell_type": "code",
      "source": [
        "import itertools\n",
        "\n",
        "numbers = [1, 2, 3, 4, 5]\n",
        "iters = itertools.tee(numbers, 3)\n",
        "\n",
        "for it in iters:\n",
        "    for num in it:\n",
        "        print(num)"
      ],
      "metadata": {
        "colab": {
          "base_uri": "https://localhost:8080/"
        },
        "id": "PZ2pwCgmvke7",
        "outputId": "cc62c8bf-a31b-4263-e746-1a732748df55"
      },
      "execution_count": 10,
      "outputs": [
        {
          "output_type": "stream",
          "name": "stdout",
          "text": [
            "1\n",
            "2\n",
            "3\n",
            "4\n",
            "5\n",
            "1\n",
            "2\n",
            "3\n",
            "4\n",
            "5\n",
            "1\n",
            "2\n",
            "3\n",
            "4\n",
            "5\n"
          ]
        }
      ]
    },
    {
      "cell_type": "markdown",
      "source": [
        "Заключение\n",
        "Python-модуль itertools — это мощный инструмент для работы с итерациями. Использование функций, предоставляемых itertools, позволяет легко выполнять сложные операции с итерируемыми объектами, не прибегая к написанию длинного и сложного кода. Функции itertools оптимизированы для повышения производительности, что делает их идеальными при работе с большими наборами данных.\n",
        "\n",
        "Освоение itertools поможет вам подняться на новый уровень программирования и стать более эффективным разработчиком Python. Примеры, приведенные в этом руководстве по Python-модулю itertools, помогут вам использовать itertools для решения сложных проблем в собственном коде, чтобы писать более чистые и эффективные программы на Python."
      ],
      "metadata": {
        "id": "OsIkHXMhv-yi"
      }
    }
  ]
}